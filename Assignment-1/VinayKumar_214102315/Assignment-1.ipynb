{
 "cells": [
  {
   "cell_type": "code",
   "execution_count": 2,
   "metadata": {},
   "outputs": [],
   "source": [
    "#Assignment-1, Que-1"
   ]
  },
  {
   "cell_type": "code",
   "execution_count": null,
   "metadata": {},
   "outputs": [],
   "source": [
    "#Printing Hello World"
   ]
  },
  {
   "cell_type": "code",
   "execution_count": 3,
   "metadata": {},
   "outputs": [
    {
     "name": "stdout",
     "output_type": "stream",
     "text": [
      "Hello World!\n"
     ]
    }
   ],
   "source": [
    "print(\"Hello World!\")"
   ]
  },
  {
   "cell_type": "code",
   "execution_count": 4,
   "metadata": {},
   "outputs": [],
   "source": [
    "#Assignment-1, Que-2"
   ]
  },
  {
   "cell_type": "code",
   "execution_count": 11,
   "metadata": {},
   "outputs": [
    {
     "name": "stdout",
     "output_type": "stream",
     "text": [
      "Enter your first no.4\n",
      "Enter second no.6\n",
      "Enter operater*\n",
      "24\n"
     ]
    }
   ],
   "source": [
    "def Arithmetic_operations(a,b,operater): # giving two inputs and operater\n",
    "    result = 0\n",
    "    if operater == \"+\": \n",
    "        result = a+b      #Addition\n",
    "    elif operater == \"-\":\n",
    "        result = a-b      #Subtraction\n",
    "    elif operater == \"*\":\n",
    "        result = a*b      #Multiplication\n",
    "    elif operater == \"/\":\n",
    "        result = a/b      #Division\n",
    "    elif operater == \"%\":\n",
    "        result = a%b      #Giving remender\n",
    "    else:\n",
    "        result = str(\"invalid\")   #if operater is not in 5 operaters we want, converting into string as we assign result as interger\n",
    "    return result   #Returning value of function\n",
    "#converting string into no. as in python variable automatically come as string, so operands should be no.\n",
    "#calling function and passing the variable to fun\n",
    "#Printing Result\n",
    "print(Arithmetic_operations(int(input(\"Enter your first no.\")), int(input(\"Enter second no.\")), input(\"Enter operater\")))\n"
   ]
  },
  {
   "cell_type": "code",
   "execution_count": null,
   "metadata": {},
   "outputs": [],
   "source": [
    "#Assignment-1, Que-3"
   ]
  },
  {
   "cell_type": "code",
   "execution_count": 12,
   "metadata": {},
   "outputs": [
    {
     "name": "stdout",
     "output_type": "stream",
     "text": [
      "Print Your no.5\n",
      "120\n"
     ]
    }
   ],
   "source": [
    "def factorial(num): #passing the variable to Factorail fun\n",
    "    count = 1       #assigning the variable to run loop\n",
    "    result =1       #assigning the variable to store result\n",
    "    while count <= num:\n",
    "        result = result*count\n",
    "        count += 1              #incresing the variable 1 every time loop run\n",
    "    return result               #Returning the result to fun call\n",
    "#calling the fun and asking input from user\n",
    "#printing result\n",
    "print(factorial(int(input(\"Print Your no.\"))))   "
   ]
  },
  {
   "cell_type": "code",
   "execution_count": 13,
   "metadata": {},
   "outputs": [],
   "source": [
    "#Assignment-1, Que-4"
   ]
  },
  {
   "cell_type": "code",
   "execution_count": 16,
   "metadata": {},
   "outputs": [
    {
     "name": "stdout",
     "output_type": "stream",
     "text": [
      "Enter first no.3\n",
      "Enter Second no.13\n",
      "3 is prime\n",
      "5 is prime\n",
      "7 is prime\n",
      "11 is prime\n",
      "13 is prime\n"
     ]
    }
   ],
   "source": [
    "def Prime_numbers(num1, num2): #prime function for range\n",
    "    a = num1\n",
    "    while a <= num2:           #Checking every variable in range\n",
    "        prime(a)               #calling function of every variable inside range\n",
    "        a += 1\n",
    "    return\n",
    "\n",
    "def prime(num):               #prime function for range\n",
    "    b = 2\n",
    "    while b < num :           #Checking every variable from 2 to num-1, whether it is divisible or not\n",
    "        if num % b == 0:      #if divisible then not prime, break the loop\n",
    "            break\n",
    "        b += 1\n",
    "    if b == num:             #if no. not divisible upto num-1 then it is prime, check condition\n",
    "        print(str(num) + \" is prime\")\n",
    "    return\n",
    "#Calling the fun and asking input range\n",
    "Prime_numbers(int(input(\"Enter first no.\")), int(input(\"Enter Second no.\")))"
   ]
  },
  {
   "cell_type": "code",
   "execution_count": 17,
   "metadata": {},
   "outputs": [],
   "source": [
    "#Assignment-1, Que-5"
   ]
  },
  {
   "cell_type": "code",
   "execution_count": 19,
   "metadata": {},
   "outputs": [
    {
     "name": "stdout",
     "output_type": "stream",
     "text": [
      "Enter first no.12\n",
      "Enter Second no.18\n",
      "36.0\n"
     ]
    }
   ],
   "source": [
    "def gcd(a,b):           #GCD FUNCTION\n",
    "    if a==0:\n",
    "        return b\n",
    "    return gcd(b%a,a)   #Returning GCD value to lcm function\n",
    "\n",
    "def lcm(num1, num2):    #LCM Function\n",
    "    result = (num1 / gcd(num1, num2))*num2   #LCM logic\n",
    "    return result                            #Returning value\n",
    "\n",
    "#calling fun and asking user to give to input for LCM\n",
    "print(lcm(int(input(\"Enter first no.\")), int(input(\"Enter Second no.\"))))"
   ]
  },
  {
   "cell_type": "code",
   "execution_count": null,
   "metadata": {},
   "outputs": [],
   "source": [
    "#Assignment-1, Que-6"
   ]
  },
  {
   "cell_type": "code",
   "execution_count": 21,
   "metadata": {},
   "outputs": [
    {
     "name": "stdout",
     "output_type": "stream",
     "text": [
      "[76, 54, 9, 8, 7, 6, 6, 6, 5, 4, 4, 4, 3, 3, 1]\n"
     ]
    }
   ],
   "source": [
    "List = [3,5,4,6,1,4,8,7,6,9,76,54,4,3,6]  #Assigning a list of 15 no., can be multiple no.\n",
    "n = len(List)                             \n",
    "for i in range(n-1):                      #for loop intreted for 0 to 14\n",
    "    for j in range(n-i-1):                #nested for loop intreted for 0 to 14-i, as every time range reduced by 1\n",
    "        if List[j] <= List[j + 1]:        #because we get lowest term at every time in last reaminings\n",
    "            swap = List[j]                #assign a swap variable for easy access of swapping\n",
    "            List[j] = List[j + 1]\n",
    "            List[j + 1] = swap\n",
    "\n",
    "print(List)"
   ]
  },
  {
   "cell_type": "code",
   "execution_count": 1,
   "metadata": {},
   "outputs": [],
   "source": [
    "#Assignment-1, Que-7"
   ]
  },
  {
   "cell_type": "code",
   "execution_count": 3,
   "metadata": {},
   "outputs": [
    {
     "name": "stdout",
     "output_type": "stream",
     "text": [
      "[ 1  3  3  4  4  4  5  6  6  6  7  8  9 54 76]\n"
     ]
    }
   ],
   "source": [
    "import numpy as np                               #Import numpy\n",
    "\n",
    "a = np.array([3,5,4,6,1,4,8,7,6,9,76,54,4,3,6])  #Assigning a list of 15 no., can be multiple no.\n",
    "\n",
    "n = len(a)\n",
    "for i in range(n-1):                             #for loop intreted for 0 to 14\n",
    "    for j in range(n-i-1):                       #nested for loop intreted for 0 to 14-i, as every time range reduced by 1\n",
    "        if a[j] >= a[j + 1]:                     #because we get Highest term at every time in last reaminings\n",
    "            swap = a[j]                          #assign a swap variable for easy access of swapping\n",
    "            a[j] = a[j + 1]\n",
    "            a[j + 1] = swap\n",
    "\n",
    "print(a)"
   ]
  },
  {
   "cell_type": "code",
   "execution_count": 5,
   "metadata": {},
   "outputs": [],
   "source": [
    "#Assignment-1, Que-8"
   ]
  },
  {
   "cell_type": "code",
   "execution_count": null,
   "metadata": {},
   "outputs": [],
   "source": [
    "#This program took a lot of time for logic, I am a newcomer so I am trying to pick only logic from google (like reshape, random)\n",
    "#and doing all programming by myself"
   ]
  },
  {
   "cell_type": "code",
   "execution_count": 6,
   "metadata": {},
   "outputs": [
    {
     "name": "stdout",
     "output_type": "stream",
     "text": [
      "Enter your rows4\n",
      "Enter your column5\n",
      "[[ 3  3 -2  3 -2]\n",
      " [ 2  2  5  2  1]\n",
      " [ 2  1  2  2  3]\n",
      " [ 3  1  5  4 -2]]\n"
     ]
    }
   ],
   "source": [
    "import numpy as np                               # import numpy\n",
    "import random                                    # import random to assign random variable to matrix\n",
    "\n",
    "def Matrix(m,n):                                 # I am having problem in assigning order of 2D array as we assign in C like a[10]\n",
    "    a = np.arange(m*n).reshape(m,n)              # I tried a lot, in end I assign value by arrange fun and then replace their value\n",
    "    for i in range(m):                           # as random by using random.randit fun after by using for loop, \n",
    "        for j in range(n):                       # Memory wise and time wise may be it will take more time but I tried my logic\n",
    "            a[i][j] = random.randint(-2, 5)\n",
    "    return a\n",
    "\n",
    "\n",
    "print(Matrix(int(input(\"Enter your rows\")),int(input(\"Enter your column\"))))"
   ]
  },
  {
   "cell_type": "code",
   "execution_count": 8,
   "metadata": {},
   "outputs": [],
   "source": [
    "#Assignment-1, Que-9, "
   ]
  },
  {
   "cell_type": "code",
   "execution_count": null,
   "metadata": {},
   "outputs": [],
   "source": [
    "#best program"
   ]
  },
  {
   "cell_type": "code",
   "execution_count": 13,
   "metadata": {},
   "outputs": [
    {
     "name": "stdout",
     "output_type": "stream",
     "text": [
      "Enter first matrix rows3\n",
      "Enter first matrix column4\n",
      "First Matrix is\n",
      "[[ 4 -1 -1  4]\n",
      " [ 3  4 -1  2]\n",
      " [ 1  3  0 -2]]\n",
      "Enter second matrix rows4\n",
      "Enter second matrix column3\n",
      "Second Matrix is\n",
      "[[ 2  5 -1]\n",
      " [ 3  4  4]\n",
      " [-2  5  5]\n",
      " [ 1  3  3]]\n",
      "Matrix Multiplication is possible\n",
      "Matrix Multiplication \n",
      "[[ 4 12 12]\n",
      " [ 2  6  6]\n",
      " [-2 -6 -6]]\n"
     ]
    }
   ],
   "source": [
    "\n",
    "import numpy as np                              # import numpy\n",
    "import random                                   # import random to assign random variable to matrix\n",
    "\n",
    "def Matrix(m ,n):                               # used previous que. method for two matrix\n",
    "    a = np.arange( m *n).reshape(m ,n)          # want to give two matrix shape input by user and also want random value inside\n",
    "    for i in range(m):\n",
    "        for j in range(n):\n",
    "            a[i][j] = random.randint(-2, 5)\n",
    "    return a\n",
    "\n",
    "def Matrix_multi(M1 ,M2):                      # define matrix multiplication function\n",
    "    (a,b) = M1.shape                           # define shape to check whether multiplication is possible or not\n",
    "    (c,d) = M2.shape\n",
    "    if b == c :\n",
    "        print(\"Matrix Multiplication is possible\")\n",
    "        M3 = np.arange(a*d).reshape(a,d)\n",
    "        for i in range(a):                     \n",
    "            for j in range(d):\n",
    "                for k in range(b):\n",
    "                    M3[i][j] = M1[i][k] * M2[k][j]\n",
    "        print(\"Matrix Multiplication \")\n",
    "        print(M3)\n",
    "    else:\n",
    "        print(\"Matrix Multiplication is not possible\")\n",
    "    return\n",
    "\n",
    "\n",
    "\n",
    "M1 = Matrix(int(input(\"Enter first matrix rows\")) ,int(input(\"Enter first matrix column\")))     \n",
    "print(\"First Matrix is\")                                                                      #want to show matrix as value\n",
    "print(M1)                                                                                     #given random      \n",
    "M2 = Matrix(int(input(\"Enter second matrix rows\")) ,int(input(\"Enter second matrix column\")))      \n",
    "print(\"Second Matrix is\")                                                                      #want to show matrix as value\n",
    "print(M2)                                                                                     #given random\n",
    "Matrix_multi(M1,M2)\n",
    "\n",
    "#want to check result with inbuilt multiplication but for that M1 & M2 should be of same shape\n"
   ]
  },
  {
   "cell_type": "code",
   "execution_count": null,
   "metadata": {},
   "outputs": [],
   "source": [
    "#Assignment-1, Que-10"
   ]
  }
 ],
 "metadata": {
  "kernelspec": {
   "display_name": "Python 3",
   "language": "python",
   "name": "python3"
  },
  "language_info": {
   "codemirror_mode": {
    "name": "ipython",
    "version": 3
   },
   "file_extension": ".py",
   "mimetype": "text/x-python",
   "name": "python",
   "nbconvert_exporter": "python",
   "pygments_lexer": "ipython3",
   "version": "3.8.3"
  }
 },
 "nbformat": 4,
 "nbformat_minor": 4
}
